{
 "cells": [
  {
   "cell_type": "markdown",
   "id": "5303fa04",
   "metadata": {},
   "source": [
    "# FINANCIAL ANALYSIS INTO A MULTI-RESIDENTIAL PROJECT IN LAGOS NIGERIA"
   ]
  },
  {
   "cell_type": "markdown",
   "id": "022f9e99",
   "metadata": {},
   "source": [
    "## IMPORTING LIBRARIES"
   ]
  },
  {
   "cell_type": "code",
   "execution_count": 1,
   "id": "ba989efa",
   "metadata": {},
   "outputs": [],
   "source": [
    "import numpy as np\n",
    "import pandas as pd\n",
    "import matplotlib.pyplot as plt\n",
    "import numpy_financial as npf"
   ]
  },
  {
   "cell_type": "markdown",
   "id": "5b75eeb2",
   "metadata": {},
   "source": [
    "## PROJECT INFORMATION"
   ]
  },
  {
   "cell_type": "code",
   "execution_count": 2,
   "id": "daa4c27f",
   "metadata": {},
   "outputs": [],
   "source": [
    "#Total number of units in the multi-residential property\n",
    "total_units = 60  \n",
    "#Total number of units per floor\n",
    "no_of_units_per_floor = 6\n",
    "#Average annual rent per unit including annual service charge\n",
    "average_rent_per_unit = 9000000  \n",
    "#Annual rent increase rate\n",
    "annual_rent_increase = 0.01  \n",
    "#Occupancy rate\n",
    "occupancy_rate = 0.65  \n",
    "#Marketing budget\n",
    "marketing_budget = 5000000\n",
    "#Annual marketing budget decrease rate\n",
    "annual_marketing_budget_decrease = 0.1 #This reduction assumes the need for marketing reduces every year as property recogntion grows\n",
    "#Maintenance and repairs costs per unit per year\n",
    "maintenance_repairs_per_unit_per_year = 50000\n",
    "#Insurance cost per year #this insureance covers fire damages as this is the most used in Nigeria\n",
    "insurance_cost = 1000000\n",
    "#Property taxes per year\n",
    "property_taxes = 800000"
   ]
  },
  {
   "cell_type": "markdown",
   "id": "86ffd470",
   "metadata": {},
   "source": [
    "## PROJECT FINANCING"
   ]
  },
  {
   "cell_type": "code",
   "execution_count": 3,
   "id": "268aca2a",
   "metadata": {},
   "outputs": [],
   "source": [
    "# Block 3: Financing\n",
    "## Loan amount\n",
    "loan_amount = 2000000000  \n",
    "## Annual interest rate (interest rates reflect current lending conditions in Nigeria)\n",
    "interest_rate = 0.21\n",
    "## Loan term in years\n",
    "loan_term = 20\n",
    "\n"
   ]
  },
  {
   "cell_type": "markdown",
   "id": "0866c1c4",
   "metadata": {},
   "source": [
    "## EXPENSES"
   ]
  },
  {
   "cell_type": "code",
   "execution_count": 4,
   "id": "ee818f51",
   "metadata": {},
   "outputs": [],
   "source": [
    "## Cost of acquiring the land for development\n",
    "land_cost = 2000000000  \n",
    "## Land size (sqm)\n",
    "land_size = 2090 \n",
    "## Construction cost per sqm\n",
    "construction_cost_per_sqm = 220000  \n",
    "## Construction area per floor\n",
    "construction_area_per_floor = 1152\n",
    "## Number of floors\n",
    "no_of_floors = 10\n",
    "\n",
    "# Total acquisition cost\n",
    "total_acquisition_cost = land_cost + (construction_cost_per_sqm * construction_area_per_floor * no_of_floors)\n",
    "\n",
    "## Annual operating expenses per unit\n",
    "annual_operating_expenses_per_unit = 3500000  \n",
    "## Total marketing expenses\n",
    "total_marketing_expenses = marketing_budget * (1 - annual_marketing_budget_decrease)\n",
    "\n",
    "# monthly loan payment\n",
    "monthly_loan_payment = npf.pmt(interest_rate / 12, loan_term * 12, -loan_amount)\n",
    "\n",
    "# Yearly operating cost\n",
    "yearly_operating_cost = (monthly_loan_payment * 12) + (annual_operating_expenses_per_unit * total_units) + total_marketing_expenses + (maintenance_repairs_per_unit_per_year * total_units) + insurance_cost + property_taxes\n"
   ]
  },
  {
   "cell_type": "markdown",
   "id": "64c0064d",
   "metadata": {},
   "source": [
    "## CALCULATIONS FOR INCOME, EXPENSES, YIELD, AND IRR"
   ]
  },
  {
   "cell_type": "code",
   "execution_count": 5,
   "id": "410e4c00",
   "metadata": {},
   "outputs": [],
   "source": [
    "# Calculate the total annual rental income with rent increase\n",
    "\n",
    "rental_income = average_rent_per_unit * 60\n",
    "total_rental_income = rental_income * (1 + annual_rent_increase)\n",
    "\n",
    "# Recalculate the monthly loan payment with the updated total rental income\n",
    "monthly_loan_payment = npf.pmt(interest_rate / 12, loan_term * 12, -loan_amount)\n",
    "\n",
    "# Calculate the annual cash flow with rent increase\n",
    "annual_cash_flow = (total_rental_income * occupancy_rate) - (monthly_loan_payment * 12)\n",
    "\n",
    "# Recalculate the cash flows with rent increase\n",
    "cash_flows = [-total_acquisition_cost]\n",
    "for _ in range(loan_term):\n",
    "    # Recalculate annual cash flow for each year\n",
    "    annual_cash_flow = (total_rental_income * occupancy_rate) - (monthly_loan_payment * 12)\n",
    "    cash_flows.append(annual_cash_flow)\n",
    "\n",
    "# Recalculate NPV and IRR with rent increase\n",
    "npv = npf.npv(interest_rate, cash_flows)\n",
    "irr = npf.irr(cash_flows)\n",
    "\n",
    "# Recalculate the yield with rent increase\n",
    "yield_percentage = (annual_cash_flow * 12) / total_acquisition_cost"
   ]
  },
  {
   "cell_type": "code",
   "execution_count": 6,
   "id": "13115126",
   "metadata": {},
   "outputs": [
    {
     "name": "stdout",
     "output_type": "stream",
     "text": [
      "## Results\n",
      "Total Rental Income: ₦ 545,400,000.00\n",
      "Total Acquisition Cost: ₦ 4,534,400,000.00\n",
      "Yearly Operating Cost: ₦ 645,934,305.69\n",
      "Annual Cash Flow: ₦ -72,124,305.69\n",
      "Net Present Value (NPV): ₦ -4,870,260,592.09\n",
      "Internal Rate of Return (IRR): nan%\n",
      "Yield: -19.09%\n"
     ]
    }
   ],
   "source": [
    "# Block 6: Results\n",
    "print(\"## Results\")\n",
    "print(\"Total Rental Income: ₦ {:,.2f}\".format(total_rental_income))\n",
    "print(\"Total Acquisition Cost: ₦ {:,.2f}\".format(total_acquisition_cost))\n",
    "print(\"Yearly Operating Cost: ₦ {:,.2f}\".format(yearly_operating_cost))\n",
    "print(\"Annual Cash Flow: ₦ {:,.2f}\".format(annual_cash_flow))\n",
    "print(\"Net Present Value (NPV): ₦ {:,.2f}\".format(npv))\n",
    "print(\"Internal Rate of Return (IRR): {:.2%}\".format(irr))\n",
    "print(\"Yield: {:.2%}\".format(yield_percentage))"
   ]
  },
  {
   "cell_type": "markdown",
   "id": "6921809f",
   "metadata": {},
   "source": [
    "## DISCOUNTED CASH FLOW"
   ]
  },
  {
   "cell_type": "code",
   "execution_count": 7,
   "id": "9df1c409",
   "metadata": {},
   "outputs": [
    {
     "name": "stdout",
     "output_type": "stream",
     "text": [
      "Discounted Cash Flow (DCF) for the next 20 years: ₦ -613,325,096.23\n"
     ]
    }
   ],
   "source": [
    "# Discount rate\n",
    "discount_rate = 0.13  # 13%\n",
    "\n",
    "# Initialize cash flow array\n",
    "cash_flows = []\n",
    "\n",
    "# Calculate cash flows for the next 20 years\n",
    "for year in range(1, 21):\n",
    "    cash_flow = annual_cash_flow * (1 + annual_rent_increase) ** year\n",
    "    cash_flows.append(cash_flow)\n",
    "\n",
    "# Calculate present value of cash flows using DCF formula\n",
    "dcf = npf.npv(discount_rate, cash_flows)\n",
    "\n",
    "print(\"Discounted Cash Flow (DCF) for the next 20 years: ₦ {:,.2f}\".format(dcf))"
   ]
  },
  {
   "cell_type": "markdown",
   "id": "836d1e78",
   "metadata": {},
   "source": [
    "## DCF OVER A 20 YEAR PERIOD"
   ]
  },
  {
   "cell_type": "code",
   "execution_count": 8,
   "id": "f8500e6e",
   "metadata": {},
   "outputs": [
    {
     "name": "stdout",
     "output_type": "stream",
     "text": [
      "Discounted Cash Flows for Year 1 to Year 20:\n",
      "Year       Discounted Cash Flow (₦)\n",
      "1          -66,223,226.14      \n",
      "2          -60,804,962.18      \n",
      "3          -55,830,010.73      \n",
      "4          -51,262,100.76      \n",
      "5          -47,067,928.88      \n",
      "6          -43,216,916.52      \n",
      "7          -39,680,986.98      \n",
      "8          -36,434,360.78      \n",
      "9          -33,453,367.62      \n",
      "10         -30,716,273.91      \n",
      "11         -28,203,124.22      \n",
      "12         -25,895,595.88      \n",
      "13         -23,776,865.31      \n",
      "14         -21,831,485.42      \n",
      "15         -20,045,272.97      \n",
      "16         -18,405,205.19      \n",
      "17         -16,899,324.76      \n",
      "18         -15,516,652.74      \n",
      "19         -14,247,108.42      \n",
      "20         -13,081,435.91      \n"
     ]
    }
   ],
   "source": [
    "# Discount rate\n",
    "discount_rate = 0.1  # 10%\n",
    "\n",
    "# Initialize cash flow array\n",
    "discounted_cash_flows = []\n",
    "\n",
    "# Calculate discounted cash flows for the next 20 years\n",
    "for year in range(1, 21):\n",
    "    cash_flow = annual_cash_flow * (1 + annual_rent_increase) ** year\n",
    "    discounted_cash_flow = cash_flow / ((1 + discount_rate) ** year)\n",
    "    discounted_cash_flows.append(discounted_cash_flow)\n",
    "\n",
    "# Print out discounted cash flows\n",
    "print(\"Discounted Cash Flows for Year 1 to Year 20:\")\n",
    "print(\"{:<10} {:<20}\".format(\"Year\", \"Discounted Cash Flow (₦)\"))\n",
    "for year, discounted_cash_flow in enumerate(discounted_cash_flows, start=1):\n",
    "    print(\"{:<10} {:<20,.2f}\".format(year, discounted_cash_flow))\n",
    "\n"
   ]
  },
  {
   "cell_type": "markdown",
   "id": "781e7499",
   "metadata": {},
   "source": [
    "## SENSITIVITY ANALYSIS"
   ]
  },
  {
   "cell_type": "markdown",
   "id": "99efa0c1",
   "metadata": {},
   "source": [
    "### THE SAME PROJECT CONDITION IS CONSIDERED WITHOUT THE NEED FOR FINANCING IF THE ENTIRE PROJECT IS FULLYFUNDED BY EQUITY OVER 20 YEARS HOLD"
   ]
  },
  {
   "cell_type": "markdown",
   "id": "6b3f0d87",
   "metadata": {},
   "source": [
    "## PROJECT FINANCING"
   ]
  },
  {
   "cell_type": "code",
   "execution_count": 9,
   "id": "ba10435b",
   "metadata": {},
   "outputs": [],
   "source": [
    "# Block 3: Financing\n",
    "## Loan amount\n",
    "loan_amount = 0  \n",
    "## Annual interest rate (interest rates reflect current lending conditions in Nigeria)\n",
    "interest_rate = 0\n",
    "## Loan term in years\n",
    "loan_term = 20"
   ]
  },
  {
   "cell_type": "markdown",
   "id": "78c41ca4",
   "metadata": {},
   "source": [
    "## EXPENSES"
   ]
  },
  {
   "cell_type": "code",
   "execution_count": 10,
   "id": "7394c9a3",
   "metadata": {},
   "outputs": [],
   "source": [
    "## Cost of acquiring the land for development\n",
    "land_cost = 2000000000  \n",
    "## Land size (sqm)\n",
    "land_size = 2090 \n",
    "## Construction cost per sqm\n",
    "construction_cost_per_sqm = 220000  \n",
    "## Construction area per floor\n",
    "construction_area_per_floor = 1152\n",
    "## Number of floors\n",
    "no_of_floors = 10\n",
    "\n",
    "# Total acquisition cost\n",
    "total_acquisition_cost = land_cost + (construction_cost_per_sqm * construction_area_per_floor * no_of_floors)\n",
    "\n",
    "## Annual operating expenses per unit\n",
    "annual_operating_expenses_per_unit = 3500000  \n",
    "## Total marketing expenses\n",
    "total_marketing_expenses = marketing_budget * (1 - annual_marketing_budget_decrease)\n",
    "\n",
    "# monthly loan payment\n",
    "monthly_loan_payment = npf.pmt(interest_rate / 12, loan_term * 12, -loan_amount)\n",
    "\n",
    "# Yearly operating cost\n",
    "yearly_operating_cost = (monthly_loan_payment * 12) + (annual_operating_expenses_per_unit * total_units) + total_marketing_expenses + (maintenance_repairs_per_unit_per_year * total_units) + insurance_cost + property_taxes\n"
   ]
  },
  {
   "cell_type": "markdown",
   "id": "2fed1009",
   "metadata": {},
   "source": [
    "## CALCULATIONS FOR INCOME, EXPENSES, YIELD, AND IRR"
   ]
  },
  {
   "cell_type": "code",
   "execution_count": 11,
   "id": "cdd26d09",
   "metadata": {},
   "outputs": [],
   "source": [
    "# Calculate the total annual rental income with rent increase\n",
    "\n",
    "rental_income = average_rent_per_unit * 60\n",
    "total_rental_income = rental_income * (1 + annual_rent_increase)\n",
    "\n",
    "# Recalculate the monthly loan payment with the updated total rental income\n",
    "monthly_loan_payment = npf.pmt(interest_rate / 12, loan_term * 12, -loan_amount)\n",
    "\n",
    "# Calculate the annual cash flow with rent increase\n",
    "annual_cash_flow = (total_rental_income * occupancy_rate) - (monthly_loan_payment * 12)\n",
    "\n",
    "# Recalculate the cash flows with rent increase\n",
    "cash_flows = [-total_acquisition_cost]\n",
    "for _ in range(loan_term):\n",
    "    # Recalculate annual cash flow for each year\n",
    "    annual_cash_flow = (total_rental_income * occupancy_rate) - (monthly_loan_payment * 12)\n",
    "    cash_flows.append(annual_cash_flow)\n",
    "\n",
    "# Recalculate NPV and IRR with rent increase\n",
    "npv = npf.npv(interest_rate, cash_flows)\n",
    "irr = npf.irr(cash_flows)\n",
    "\n",
    "# Recalculate the yield with rent increase\n",
    "yield_percentage = (annual_cash_flow * 12) / total_acquisition_cost"
   ]
  },
  {
   "cell_type": "code",
   "execution_count": 12,
   "id": "cb9896e3",
   "metadata": {},
   "outputs": [
    {
     "name": "stdout",
     "output_type": "stream",
     "text": [
      "## Results\n",
      "Total Rental Income: ₦ 545,400,000.00\n",
      "Total Acquisition Cost: ₦ 4,534,400,000.00\n",
      "Yearly Operating Cost: ₦ 219,300,000.00\n",
      "Annual Cash Flow: ₦ 354,510,000.00\n",
      "Net Present Value (NPV): ₦ 2,555,800,000.00\n",
      "Internal Rate of Return (IRR): 4.70%\n",
      "Yield: 93.82%\n"
     ]
    }
   ],
   "source": [
    "#Results\n",
    "print(\"## Results\")\n",
    "print(\"Total Rental Income: ₦ {:,.2f}\".format(total_rental_income))\n",
    "print(\"Total Acquisition Cost: ₦ {:,.2f}\".format(total_acquisition_cost))\n",
    "print(\"Yearly Operating Cost: ₦ {:,.2f}\".format(yearly_operating_cost))\n",
    "print(\"Annual Cash Flow: ₦ {:,.2f}\".format(annual_cash_flow))\n",
    "print(\"Net Present Value (NPV): ₦ {:,.2f}\".format(npv))\n",
    "print(\"Internal Rate of Return (IRR): {:.2%}\".format(irr))\n",
    "print(\"Yield: {:.2%}\".format(yield_percentage))"
   ]
  },
  {
   "cell_type": "markdown",
   "id": "ffc05d59",
   "metadata": {},
   "source": [
    "## DISCOUNTED CASH FLOW"
   ]
  },
  {
   "cell_type": "code",
   "execution_count": 13,
   "id": "754b27dc",
   "metadata": {},
   "outputs": [
    {
     "name": "stdout",
     "output_type": "stream",
     "text": [
      "Discounted Cash Flow (DCF) for the next 20 years: ₦ 3,582,497,141.43\n"
     ]
    }
   ],
   "source": [
    "# Discount rate\n",
    "discount_rate = 0.1  # 10%\n",
    "\n",
    "# Initialize cash flow array\n",
    "cash_flows = []\n",
    "\n",
    "# Calculate cash flows for the next 20 years\n",
    "for year in range(1, 21):\n",
    "    cash_flow = annual_cash_flow * (1 + annual_rent_increase) ** year\n",
    "    cash_flows.append(cash_flow)\n",
    "\n",
    "# Calculate present value of cash flows using DCF formula\n",
    "dcf = npf.npv(discount_rate, cash_flows)\n",
    "\n",
    "print(\"Discounted Cash Flow (DCF) for the next 20 years: ₦ {:,.2f}\".format(dcf))"
   ]
  },
  {
   "cell_type": "markdown",
   "id": "3fe41c22",
   "metadata": {},
   "source": [
    "## DCF OVER 20 YEARS"
   ]
  },
  {
   "cell_type": "code",
   "execution_count": 14,
   "id": "63ed2bab",
   "metadata": {},
   "outputs": [
    {
     "name": "stdout",
     "output_type": "stream",
     "text": [
      "Discounted Cash Flows for Year 1 to Year 20:\n",
      "Year       Discounted Cash Flow (₦)\n",
      "1          316,862,920.35      \n",
      "2          283,213,760.67      \n",
      "3          253,137,963.08      \n",
      "4          226,256,055.49      \n",
      "5          202,228,863.76      \n",
      "6          180,753,232.21      \n",
      "7          161,558,198.70      \n",
      "8          144,401,575.83      \n",
      "9          129,066,895.21      \n",
      "10         115,360,676.25      \n",
      "11         103,109,984.97      \n",
      "12         92,160,252.05       \n",
      "13         82,373,322.63       \n",
      "14         73,625,713.15       \n",
      "15         65,807,053.34       \n",
      "16         58,818,693.70       \n",
      "17         52,572,460.74       \n",
      "18         46,989,544.55       \n",
      "19         41,999,504.42       \n",
      "20         37,539,380.06       \n"
     ]
    }
   ],
   "source": [
    "# Discount rate\n",
    "discount_rate = 0.13  # 13%\n",
    "\n",
    "# Initialize cash flow array\n",
    "discounted_cash_flows = []\n",
    "\n",
    "# Calculate discounted cash flows for the next 20 years\n",
    "for year in range(1, 21):\n",
    "    cash_flow = annual_cash_flow * (1 + annual_rent_increase) ** year\n",
    "    discounted_cash_flow = cash_flow / ((1 + discount_rate) ** year)\n",
    "    discounted_cash_flows.append(discounted_cash_flow)\n",
    "\n",
    "# Print out discounted cash flows\n",
    "print(\"Discounted Cash Flows for Year 1 to Year 20:\")\n",
    "print(\"{:<10} {:<20}\".format(\"Year\", \"Discounted Cash Flow (₦)\"))\n",
    "for year, discounted_cash_flow in enumerate(discounted_cash_flows, start=1):\n",
    "    print(\"{:<10} {:<20,.2f}\".format(year, discounted_cash_flow))\n",
    "\n"
   ]
  },
  {
   "cell_type": "markdown",
   "id": "3e69531b",
   "metadata": {},
   "source": [
    "### THE SAME PROJECT CONDITION IS CONSIDERED WITHOUT THE NEED FOR FINANCING IF THE ENTIRE PROJECT IS FULLYFUNDED BY EQUITY OVER 20 YEARS HOLD WITH LOWER RENT, HIGHER OCCUPANCY RATES AND LOWER MARKETING COST"
   ]
  },
  {
   "cell_type": "code",
   "execution_count": 15,
   "id": "2f20ff0c",
   "metadata": {},
   "outputs": [],
   "source": [
    "#Total number of units in the multi-residential property\n",
    "total_units = 60  \n",
    "#Total number of units per floor\n",
    "no_of_units_per_floor = 6\n",
    "#Average annual rent per unit including annual service charge\n",
    "average_rent_per_unit = 6500000  \n",
    "#Annual rent increase rate\n",
    "annual_rent_increase = 0.02  \n",
    "#Occupancy rate\n",
    "occupancy_rate = 0.95  \n",
    "#Marketing budget\n",
    "marketing_budget = 1000000\n",
    "#Annual marketing budget decrease rate\n",
    "annual_marketing_budget_decrease = 0.5 #This reduction assumes the need for marketing reduces every year as property recogntion grows\n",
    "#Maintenance and repairs costs per unit per year\n",
    "maintenance_repairs_per_unit_per_year = 50000\n",
    "#Insurance cost per year #this insureance covers fire damages as this is the most used in Nigeria\n",
    "insurance_cost = 1000000\n",
    "#Property taxes per year\n",
    "property_taxes = 800000"
   ]
  },
  {
   "cell_type": "markdown",
   "id": "6d6f6dd5",
   "metadata": {},
   "source": [
    "## FINANCING"
   ]
  },
  {
   "cell_type": "code",
   "execution_count": 16,
   "id": "7d57911a",
   "metadata": {},
   "outputs": [],
   "source": [
    "## Loan amount\n",
    "loan_amount = 0  \n",
    "## Annual interest rate (interest rates reflect current lending conditions in Nigeria)\n",
    "interest_rate = 0\n",
    "## Loan term in years\n",
    "loan_term = 20"
   ]
  },
  {
   "cell_type": "markdown",
   "id": "eaf59910",
   "metadata": {},
   "source": [
    "## EXPENSES"
   ]
  },
  {
   "cell_type": "code",
   "execution_count": 17,
   "id": "7b9aa21a",
   "metadata": {},
   "outputs": [],
   "source": [
    "## Cost of acquiring the land for development\n",
    "land_cost = 2000000000  \n",
    "## Land size (sqm)\n",
    "land_size = 2090 \n",
    "## Construction cost per sqm\n",
    "construction_cost_per_sqm = 220000  \n",
    "## Construction area per floor\n",
    "construction_area_per_floor = 1152\n",
    "## Number of floors\n",
    "no_of_floors = 10\n",
    "\n",
    "# Total acquisition cost\n",
    "total_acquisition_cost = land_cost + (construction_cost_per_sqm * construction_area_per_floor * no_of_floors)\n",
    "\n",
    "## Annual operating expenses per unit\n",
    "annual_operating_expenses_per_unit = 3000000  \n",
    "## Total marketing expenses\n",
    "total_marketing_expenses = marketing_budget * (1 - annual_marketing_budget_decrease)\n",
    "\n",
    "# monthly loan payment\n",
    "monthly_loan_payment = npf.pmt(interest_rate / 12, loan_term * 12, -loan_amount)\n",
    "\n",
    "# Yearly operating cost\n",
    "yearly_operating_cost = (monthly_loan_payment * 12) + (annual_operating_expenses_per_unit * total_units) + total_marketing_expenses + (maintenance_repairs_per_unit_per_year * total_units) + insurance_cost + property_taxes\n"
   ]
  },
  {
   "cell_type": "markdown",
   "id": "4f1fb7cb",
   "metadata": {},
   "source": [
    "## CALCULATIONS FOR INCOME, EXPENSES, YIELD, AND IRR"
   ]
  },
  {
   "cell_type": "code",
   "execution_count": 18,
   "id": "79a6c3b2",
   "metadata": {},
   "outputs": [],
   "source": [
    "# Calculate the total annual rental income with rent increase\n",
    "\n",
    "rental_income = average_rent_per_unit * 60\n",
    "total_rental_income = rental_income * (1 + annual_rent_increase)\n",
    "\n",
    "# Recalculate the monthly loan payment with the updated total rental income\n",
    "monthly_loan_payment = npf.pmt(interest_rate / 12, loan_term * 12, -loan_amount)\n",
    "\n",
    "# Calculate the annual cash flow with rent increase\n",
    "annual_cash_flow = (total_rental_income * occupancy_rate) - (monthly_loan_payment * 12)\n",
    "\n",
    "# Recalculate the cash flows with rent increase\n",
    "cash_flows = [-total_acquisition_cost]\n",
    "for _ in range(loan_term):\n",
    "    # Recalculate annual cash flow for each year\n",
    "    annual_cash_flow = (total_rental_income * occupancy_rate) - (monthly_loan_payment * 12)\n",
    "    cash_flows.append(annual_cash_flow)\n",
    "\n",
    "# Recalculate NPV and IRR with rent increase\n",
    "npv = npf.npv(interest_rate, cash_flows)\n",
    "irr = npf.irr(cash_flows)\n",
    "\n",
    "# Recalculate the yield with rent increase\n",
    "yield_percentage = (annual_cash_flow * 12) / total_acquisition_cost"
   ]
  },
  {
   "cell_type": "code",
   "execution_count": 19,
   "id": "385585e0",
   "metadata": {},
   "outputs": [
    {
     "name": "stdout",
     "output_type": "stream",
     "text": [
      "## Results\n",
      "Total Rental Income: ₦ 397,800,000.00\n",
      "Total Acquisition Cost: ₦ 4,534,400,000.00\n",
      "Yearly Operating Cost: ₦ 185,300,000.00\n",
      "Annual Cash Flow: ₦ 377,910,000.00\n",
      "Net Present Value (NPV): ₦ 3,023,800,000.00\n",
      "Internal Rate of Return (IRR): 5.45%\n",
      "Yield: 100.01%\n"
     ]
    }
   ],
   "source": [
    "#Results\n",
    "print(\"## Results\")\n",
    "print(\"Total Rental Income: ₦ {:,.2f}\".format(total_rental_income))\n",
    "print(\"Total Acquisition Cost: ₦ {:,.2f}\".format(total_acquisition_cost))\n",
    "print(\"Yearly Operating Cost: ₦ {:,.2f}\".format(yearly_operating_cost))\n",
    "print(\"Annual Cash Flow: ₦ {:,.2f}\".format(annual_cash_flow))\n",
    "print(\"Net Present Value (NPV): ₦ {:,.2f}\".format(npv))\n",
    "print(\"Internal Rate of Return (IRR): {:.2%}\".format(irr))\n",
    "print(\"Yield: {:.2%}\".format(yield_percentage))"
   ]
  },
  {
   "cell_type": "markdown",
   "id": "060d4b29",
   "metadata": {},
   "source": [
    "## DCF"
   ]
  },
  {
   "cell_type": "code",
   "execution_count": 20,
   "id": "4d528dec",
   "metadata": {},
   "outputs": [
    {
     "name": "stdout",
     "output_type": "stream",
     "text": [
      "Discounted Cash Flow (DCF) for the next 20 years: ₦ 4,129,500,236.86\n"
     ]
    }
   ],
   "source": [
    "# Discount rate\n",
    "discount_rate = 0.1  # 10%\n",
    "\n",
    "# Initialize cash flow array\n",
    "cash_flows = []\n",
    "\n",
    "# Calculate cash flows for the next 20 years\n",
    "for year in range(1, 21):\n",
    "    cash_flow = annual_cash_flow * (1 + annual_rent_increase) ** year\n",
    "    cash_flows.append(cash_flow)\n",
    "\n",
    "# Calculate present value of cash flows using DCF formula\n",
    "dcf = npf.npv(discount_rate, cash_flows)\n",
    "\n",
    "print(\"Discounted Cash Flow (DCF) for the next 20 years: ₦ {:,.2f}\".format(dcf))"
   ]
  },
  {
   "cell_type": "markdown",
   "id": "a7adb39f",
   "metadata": {},
   "source": [
    "## DCF OVER 20 YEARS HOLD"
   ]
  },
  {
   "cell_type": "code",
   "execution_count": 21,
   "id": "21bd6b4f",
   "metadata": {},
   "outputs": [
    {
     "name": "stdout",
     "output_type": "stream",
     "text": [
      "Discounted Cash Flows for Year 1 to Year 20:\n",
      "Year       Discounted Cash Flow (₦)\n",
      "1          341,122,300.88      \n",
      "2          307,915,705.22      \n",
      "3          277,941,610.02      \n",
      "4          250,885,347.10      \n",
      "5          226,462,879.69      \n",
      "6          204,417,820.60      \n",
      "7          184,518,740.72      \n",
      "8          166,556,739.41      \n",
      "9          150,343,251.50      \n",
      "10         135,708,067.73      \n",
      "11         122,497,547.86      \n",
      "12         110,573,007.80      \n",
      "13         99,809,263.68       \n",
      "14         90,093,317.66       \n",
      "15         81,323,171.69       \n",
      "16         73,406,756.75       \n",
      "17         66,260,966.27       \n",
      "18         59,810,783.71       \n",
      "19         53,988,495.03       \n",
      "20         48,732,977.82       \n"
     ]
    }
   ],
   "source": [
    "# Discount rate\n",
    "discount_rate = 0.13  # 13%\n",
    "\n",
    "# Initialize cash flow array\n",
    "discounted_cash_flows = []\n",
    "\n",
    "# Calculate discounted cash flows for the next 20 years\n",
    "for year in range(1, 21):\n",
    "    cash_flow = annual_cash_flow * (1 + annual_rent_increase) ** year\n",
    "    discounted_cash_flow = cash_flow / ((1 + discount_rate) ** year)\n",
    "    discounted_cash_flows.append(discounted_cash_flow)\n",
    "\n",
    "# Print out discounted cash flows\n",
    "print(\"Discounted Cash Flows for Year 1 to Year 20:\")\n",
    "print(\"{:<10} {:<20}\".format(\"Year\", \"Discounted Cash Flow (₦)\"))\n",
    "for year, discounted_cash_flow in enumerate(discounted_cash_flows, start=1):\n",
    "    print(\"{:<10} {:<20,.2f}\".format(year, discounted_cash_flow))\n",
    "\n"
   ]
  },
  {
   "cell_type": "code",
   "execution_count": null,
   "id": "2b6601c0",
   "metadata": {},
   "outputs": [],
   "source": []
  }
 ],
 "metadata": {
  "kernelspec": {
   "display_name": "Python 3 (ipykernel)",
   "language": "python",
   "name": "python3"
  },
  "language_info": {
   "codemirror_mode": {
    "name": "ipython",
    "version": 3
   },
   "file_extension": ".py",
   "mimetype": "text/x-python",
   "name": "python",
   "nbconvert_exporter": "python",
   "pygments_lexer": "ipython3",
   "version": "3.10.9"
  }
 },
 "nbformat": 4,
 "nbformat_minor": 5
}
